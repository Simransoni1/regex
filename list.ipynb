{
  "nbformat": 4,
  "nbformat_minor": 0,
  "metadata": {
    "colab": {
      "provenance": [],
      "authorship_tag": "ABX9TyMwHVzfSjA1CoiFzs6RM2/v",
      "include_colab_link": true
    },
    "kernelspec": {
      "name": "python3",
      "display_name": "Python 3"
    },
    "language_info": {
      "name": "python"
    }
  },
  "cells": [
    {
      "cell_type": "markdown",
      "metadata": {
        "id": "view-in-github",
        "colab_type": "text"
      },
      "source": [
        "<a href=\"https://colab.research.google.com/github/Simransoni1/regex/blob/main/list.ipynb\" target=\"_parent\"><img src=\"https://colab.research.google.com/assets/colab-badge.svg\" alt=\"Open In Colab\"/></a>"
      ]
    },
    {
      "cell_type": "code",
      "execution_count": null,
      "metadata": {
        "colab": {
          "base_uri": "https://localhost:8080/"
        },
        "id": "jRoaPJ7cex7Q",
        "outputId": "05496cc4-1d5f-418f-df3e-317b44b0c6ae"
      },
      "outputs": [
        {
          "output_type": "stream",
          "name": "stdout",
          "text": [
            "19\n",
            "3\n",
            "5\n"
          ]
        }
      ],
      "source": [
        "\n",
        "mylist=[10, 20, 30, 40, 19, 4, 3, 5, 2]\n",
        "for i in range(0, 9):\n",
        "  if(mylist[i]%2!=0):\n",
        "    print(mylist[i])"
      ]
    },
    {
      "cell_type": "code",
      "source": [
        "mylist=[10, 20, 301,\"a\", 40, 19, 4,2,\"b\"]\n",
        "max_num=mylist[1]\n",
        "for i in range(1,len(mylist)):\n",
        "  if(mylist[i]>max_num):\n",
        "    max=mylist[i]\n",
        "  print(mylist[i])"
      ],
      "metadata": {
        "colab": {
          "base_uri": "https://localhost:8080/",
          "height": 245
        },
        "id": "HhvFw8fCffxR",
        "outputId": "1c98c3d0-7068-4e73-c385-e13318be2e67"
      },
      "execution_count": null,
      "outputs": [
        {
          "output_type": "stream",
          "name": "stdout",
          "text": [
            "20\n",
            "301\n"
          ]
        },
        {
          "output_type": "error",
          "ename": "TypeError",
          "evalue": "'>' not supported between instances of 'str' and 'int'",
          "traceback": [
            "\u001b[0;31m---------------------------------------------------------------------------\u001b[0m",
            "\u001b[0;31mTypeError\u001b[0m                                 Traceback (most recent call last)",
            "\u001b[0;32m<ipython-input-9-d6d72d4313a0>\u001b[0m in \u001b[0;36m<cell line: 0>\u001b[0;34m()\u001b[0m\n\u001b[1;32m      2\u001b[0m \u001b[0mmax_num\u001b[0m\u001b[0;34m=\u001b[0m\u001b[0mmylist\u001b[0m\u001b[0;34m[\u001b[0m\u001b[0;36m1\u001b[0m\u001b[0;34m]\u001b[0m\u001b[0;34m\u001b[0m\u001b[0;34m\u001b[0m\u001b[0m\n\u001b[1;32m      3\u001b[0m \u001b[0;32mfor\u001b[0m \u001b[0mi\u001b[0m \u001b[0;32min\u001b[0m \u001b[0mrange\u001b[0m\u001b[0;34m(\u001b[0m\u001b[0;36m1\u001b[0m\u001b[0;34m,\u001b[0m\u001b[0mlen\u001b[0m\u001b[0;34m(\u001b[0m\u001b[0mmylist\u001b[0m\u001b[0;34m)\u001b[0m\u001b[0;34m)\u001b[0m\u001b[0;34m:\u001b[0m\u001b[0;34m\u001b[0m\u001b[0;34m\u001b[0m\u001b[0m\n\u001b[0;32m----> 4\u001b[0;31m   \u001b[0;32mif\u001b[0m\u001b[0;34m(\u001b[0m\u001b[0mmylist\u001b[0m\u001b[0;34m[\u001b[0m\u001b[0mi\u001b[0m\u001b[0;34m]\u001b[0m\u001b[0;34m>\u001b[0m\u001b[0mmax_num\u001b[0m\u001b[0;34m)\u001b[0m\u001b[0;34m:\u001b[0m\u001b[0;34m\u001b[0m\u001b[0;34m\u001b[0m\u001b[0m\n\u001b[0m\u001b[1;32m      5\u001b[0m     \u001b[0mmax\u001b[0m\u001b[0;34m=\u001b[0m\u001b[0mmylist\u001b[0m\u001b[0;34m[\u001b[0m\u001b[0mi\u001b[0m\u001b[0;34m]\u001b[0m\u001b[0;34m\u001b[0m\u001b[0;34m\u001b[0m\u001b[0m\n\u001b[1;32m      6\u001b[0m   \u001b[0mprint\u001b[0m\u001b[0;34m(\u001b[0m\u001b[0mmylist\u001b[0m\u001b[0;34m[\u001b[0m\u001b[0mi\u001b[0m\u001b[0;34m]\u001b[0m\u001b[0;34m)\u001b[0m\u001b[0;34m\u001b[0m\u001b[0;34m\u001b[0m\u001b[0m\n",
            "\u001b[0;31mTypeError\u001b[0m: '>' not supported between instances of 'str' and 'int'"
          ]
        }
      ]
    },
    {
      "cell_type": "code",
      "source": [
        "mylist=[10, 20, 301,\"a\", 40, 19, 4,2,\"b\"]\n",
        "for i in range(1,len(mylist)):\n",
        "  if(type(mylist[i])==int and (mylist[i]>40)):\n",
        "\n",
        "   print(mylist[i])"
      ],
      "metadata": {
        "colab": {
          "base_uri": "https://localhost:8080/"
        },
        "id": "NYBJNiF7jcGA",
        "outputId": "898ca50a-afcb-48ad-ea3e-b0702dcca056"
      },
      "execution_count": null,
      "outputs": [
        {
          "output_type": "stream",
          "name": "stdout",
          "text": [
            "301\n"
          ]
        }
      ]
    },
    {
      "cell_type": "code",
      "source": [
        "x=[40, 50, -20, 60, 60, -20, -20]\n",
        "for i in range(0,len(x)):\n",
        "  for j in range(i+1,len(x)):\n",
        "\n",
        "   if(x[i]==x[j]):\n",
        "    print(\"duplicates=\",x[i])"
      ],
      "metadata": {
        "id": "F65RvrxINBon",
        "colab": {
          "base_uri": "https://localhost:8080/"
        },
        "outputId": "ce23774e-df54-4745-f8e3-6c9d475acf86"
      },
      "execution_count": null,
      "outputs": [
        {
          "output_type": "stream",
          "name": "stdout",
          "text": [
            "duplicates= -20\n",
            "duplicates= -20\n",
            "duplicates= 60\n",
            "duplicates= -20\n"
          ]
        }
      ]
    },
    {
      "cell_type": "code",
      "source": [
        "x=[-7,-1,-7,1,8,8]\n",
        "for i in range(0,len(x)):\n",
        "  for j in range(i+1,len(x)):\n",
        "\n",
        "   if(x[i]==x[j]):\n",
        "    print(\"duplicates=\",x[i])"
      ],
      "metadata": {
        "colab": {
          "base_uri": "https://localhost:8080/"
        },
        "id": "M0cJ9uV9OaYZ",
        "outputId": "149ca0ed-2fb4-42a1-e1be-a62a704fa0dd"
      },
      "execution_count": null,
      "outputs": [
        {
          "output_type": "stream",
          "name": "stdout",
          "text": [
            "duplicates= -7\n",
            "duplicates= 8\n"
          ]
        }
      ]
    },
    {
      "cell_type": "code",
      "source": [
        "mylist=[10,20,301,40,19,4,2]\n",
        "sum=0\n",
        "for i in range(0,len(mylist)):\n",
        "  sum+=mylist[i]\n",
        "  print(sum)"
      ],
      "metadata": {
        "colab": {
          "base_uri": "https://localhost:8080/"
        },
        "id": "HlOElzBRliNl",
        "outputId": "98beab6c-2a2e-4434-cc97-22a8550e9bd6"
      },
      "execution_count": null,
      "outputs": [
        {
          "output_type": "stream",
          "name": "stdout",
          "text": [
            "10\n",
            "30\n",
            "331\n",
            "371\n",
            "390\n",
            "394\n",
            "396\n"
          ]
        }
      ]
    },
    {
      "cell_type": "code",
      "source": [
        "#sum of two problem\n",
        "mylist=[0,1,2,5,7,11,14]\n",
        "target=9\n",
        "for i in range(0,len(mylist)):\n",
        "\n",
        "  for j in range(i+1,len(mylist)):\n",
        "    if(mylist[i]+mylist[j]==9):\n",
        "     print(\"two values\",mylist[i],mylist[j])"
      ],
      "metadata": {
        "colab": {
          "base_uri": "https://localhost:8080/"
        },
        "id": "j_ZeKkrcm2r-",
        "outputId": "2919ce43-4d2f-4881-fa65-6497981d0b4c"
      },
      "execution_count": null,
      "outputs": [
        {
          "output_type": "stream",
          "name": "stdout",
          "text": [
            "two values 2 7\n"
          ]
        }
      ]
    },
    {
      "cell_type": "code",
      "source": [
        "s=\"()\"\n",
        "x=None\n",
        "for i in range(0,len(s)):\n",
        "  char=s[i]\n",
        "  if (char==\"(\" or char==\"[\" or char==\"{\"):\n",
        "    x=char\n",
        "    print(\"open=\",char,x)\n",
        "  else:\n",
        "    print(\"close=\",char,x)"
      ],
      "metadata": {
        "colab": {
          "base_uri": "https://localhost:8080/"
        },
        "id": "p5UkESTWTvrM",
        "outputId": "7b858942-0b46-42c0-f644-a743b8015094"
      },
      "execution_count": null,
      "outputs": [
        {
          "output_type": "stream",
          "name": "stdout",
          "text": [
            "open= ( (\n",
            "close= ) (\n"
          ]
        }
      ]
    },
    {
      "cell_type": "code",
      "source": [
        "s=\"[)\"\n",
        "x=None\n",
        "for i in range(0,len(s)):\n",
        "  char=s[i]\n",
        "  if (char==\"(\" or char==\"[\" or char==\"{\"):\n",
        "    x=char\n",
        "    print(\"open=\",char,x)\n",
        "  else:\n",
        "    if(char==\")\" and  \"(\"==x):\n",
        "      print(\"valid\",char,x)\n",
        "    else:\n",
        "      print(\"invalid\",char,x)"
      ],
      "metadata": {
        "colab": {
          "base_uri": "https://localhost:8080/"
        },
        "id": "9G6yl6ysDC6g",
        "outputId": "64b6f33d-ce02-4f2d-b043-1745c20a9e89"
      },
      "execution_count": null,
      "outputs": [
        {
          "output_type": "stream",
          "name": "stdout",
          "text": [
            "open= [ [\n",
            "invalid ) [\n"
          ]
        }
      ]
    },
    {
      "cell_type": "code",
      "source": [
        "s=\"[]\"\n",
        "x=None\n",
        "for i in range(0,len(s)):\n",
        "  char=s[i]\n",
        "  if (char==\"(\" or char==\"[\" or char==\"{\"):\n",
        "    x=char\n",
        "    print(\"open=\",char,x)\n",
        "  else:\n",
        "    if(char==\")\" and  \"(\"==x or char==\"]\" and \"[\"==x):\n",
        "      print(\"valid\",char,x)\n",
        "    else:\n",
        "      print(\"invalid\",char,x)"
      ],
      "metadata": {
        "colab": {
          "base_uri": "https://localhost:8080/"
        },
        "id": "pBOiTd83Ioc-",
        "outputId": "5e698dca-e8d6-4f3e-d1fa-fc3650fbdea7"
      },
      "execution_count": null,
      "outputs": [
        {
          "output_type": "stream",
          "name": "stdout",
          "text": [
            "open= [ [\n",
            "valid ] [\n"
          ]
        }
      ]
    },
    {
      "cell_type": "code",
      "source": [
        "s=\"{}\"\n",
        "x=None\n",
        "for i in range(0,len(s)):\n",
        "  char=s[i]\n",
        "  if (char==\"(\" or char==\"[\" or char==\"{\"):\n",
        "    x=char\n",
        "    print(\"open=\",char,x)\n",
        "  else:\n",
        "    if(char==\")\" and  \"(\"==x or char==\"]\" and \"[\"==x and char==\"}\" or \"{\"==x):\n",
        "      print(\"valid\",char,x)\n",
        "    else:\n",
        "      print(\"invalid\",char,x)"
      ],
      "metadata": {
        "colab": {
          "base_uri": "https://localhost:8080/"
        },
        "id": "4_MkBzanI84z",
        "outputId": "958400ba-66b0-4647-af4f-fdd6850ed80e"
      },
      "execution_count": null,
      "outputs": [
        {
          "output_type": "stream",
          "name": "stdout",
          "text": [
            "open= { {\n",
            "valid } {\n"
          ]
        }
      ]
    },
    {
      "cell_type": "code",
      "source": [
        "s=\"[(]})]\"\n",
        "x=[]\n",
        "a=0\n",
        "for i in range(0,len(s)):\n",
        "  char=s[i]\n",
        "  if (char==\"(\" or char==\"[\" or char==\"{\"):\n",
        "    x.append(char)\n",
        "\n",
        "  else:\n",
        "    if(char==\")\" and  \"(\"==x[-1] or char==\"]\" and \"[\"==x[-1] and char==\"}\" or \"{\"==x[-1]):\n",
        "      a=1\n",
        "    else:\n",
        "      a=0\n",
        "      x.pop()\n",
        "      break\n",
        "if(a==1):\n",
        "  print(\"valid\")\n",
        "else:\n",
        "  print(\"invalid\")"
      ],
      "metadata": {
        "colab": {
          "base_uri": "https://localhost:8080/"
        },
        "id": "jf5OIFbbOoqv",
        "outputId": "52dfe07a-1f3e-4275-97d0-33acc0de2cd8"
      },
      "execution_count": null,
      "outputs": [
        {
          "output_type": "stream",
          "name": "stdout",
          "text": [
            "invalid\n"
          ]
        }
      ]
    },
    {
      "cell_type": "code",
      "source": [
        "s=\"[{})\"\n",
        "#[ (   ]\n",
        "x=[]      #x store open bracket\n",
        "a=0\n",
        "for i in range(0, len(s)):\n",
        "  char=s[i]\n",
        "  if(char==\"(\" or char==\"{\" or char==\"[\"):\n",
        "    x.append(char)\n",
        "  elif(len(x) >0):\n",
        "    if( (char==\")\"  and \"(\"==x[-1]) or ( char==\"]\"  and \"[\"==x[-1])  or ( char==\"}\"  and \"{\"==x[-1]) ):\n",
        "      a=1\n",
        "      x.pop()\n",
        "\n",
        "    else:\n",
        "      a=0\n",
        "      break\n",
        "\n",
        "\n",
        "\n",
        "if(a==1):\n",
        "  print(\"valid\")\n",
        "else:\n",
        "  print(\"invalid\")\n"
      ],
      "metadata": {
        "colab": {
          "base_uri": "https://localhost:8080/"
        },
        "id": "kkTXW7_1yozf",
        "outputId": "8bbcd5bf-df96-497b-da76-10ce43334287"
      },
      "execution_count": null,
      "outputs": [
        {
          "output_type": "stream",
          "name": "stdout",
          "text": [
            "invalid\n"
          ]
        }
      ]
    },
    {
      "cell_type": "code",
      "source": [
        "#1 max no\n",
        "x= [10, 20, 4, 45, 99]\n",
        "max=x[0]\n",
        "for i in range(0,len(x)):\n",
        "  if(x[i]>max):\n",
        "    max=x[i]\n",
        "print(\"max=\",x[i])\n"
      ],
      "metadata": {
        "colab": {
          "base_uri": "https://localhost:8080/"
        },
        "id": "gM7et5cPGc_X",
        "outputId": "5bb235c0-8390-470e-d5aa-fb659179c1a3"
      },
      "execution_count": null,
      "outputs": [
        {
          "output_type": "stream",
          "name": "stdout",
          "text": [
            "max= 99\n"
          ]
        }
      ]
    },
    {
      "cell_type": "code",
      "source": [
        "#2 sum all no\n",
        "x= [10, 20, 30,40]\n",
        "sum=0\n",
        "for i in range(0,len(x)):\n",
        "  sum+=x[i]\n",
        "\n",
        "print(sum)"
      ],
      "metadata": {
        "colab": {
          "base_uri": "https://localhost:8080/"
        },
        "id": "8-E4TZ6vJa5o",
        "outputId": "8fdce865-e037-4ba0-8fa4-e1b6446c15be"
      },
      "execution_count": null,
      "outputs": [
        {
          "output_type": "stream",
          "name": "stdout",
          "text": [
            "100\n"
          ]
        }
      ]
    },
    {
      "cell_type": "code",
      "source": [],
      "metadata": {
        "colab": {
          "base_uri": "https://localhost:8080/",
          "height": 263
        },
        "id": "f9EJW-QCKri_",
        "outputId": "b2caaa1b-7611-4179-cf48-a8de1d029ed9"
      },
      "execution_count": null,
      "outputs": [
        {
          "output_type": "stream",
          "name": "stdout",
          "text": [
            "duplicates = 1\n",
            "duplicates = 2\n",
            "duplicates = 3\n",
            "duplicates = 4\n",
            "duplicates = 5\n"
          ]
        },
        {
          "output_type": "error",
          "ename": "IndexError",
          "evalue": "list index out of range",
          "traceback": [
            "\u001b[0;31m---------------------------------------------------------------------------\u001b[0m",
            "\u001b[0;31mIndexError\u001b[0m                                Traceback (most recent call last)",
            "\u001b[0;32m<ipython-input-32-ec7dc1259585>\u001b[0m in \u001b[0;36m<cell line: 0>\u001b[0;34m()\u001b[0m\n\u001b[1;32m      5\u001b[0m      \u001b[0mx\u001b[0m\u001b[0;34m.\u001b[0m\u001b[0mpop\u001b[0m\u001b[0;34m(\u001b[0m\u001b[0mj\u001b[0m\u001b[0;34m)\u001b[0m\u001b[0;34m\u001b[0m\u001b[0;34m\u001b[0m\u001b[0m\n\u001b[1;32m      6\u001b[0m      \u001b[0;32mbreak\u001b[0m\u001b[0;34m\u001b[0m\u001b[0;34m\u001b[0m\u001b[0m\n\u001b[0;32m----> 7\u001b[0;31m   \u001b[0mprint\u001b[0m\u001b[0;34m(\u001b[0m\u001b[0;34m\"duplicates =\"\u001b[0m\u001b[0;34m,\u001b[0m\u001b[0mx\u001b[0m\u001b[0;34m[\u001b[0m\u001b[0mi\u001b[0m\u001b[0;34m]\u001b[0m\u001b[0;34m)\u001b[0m\u001b[0;34m\u001b[0m\u001b[0;34m\u001b[0m\u001b[0m\n\u001b[0m",
            "\u001b[0;31mIndexError\u001b[0m: list index out of range"
          ]
        }
      ]
    },
    {
      "cell_type": "code",
      "source": [
        "nums=[1,2,3,4,5]\n",
        "x=[]\n",
        "list=len(nums)\n",
        "for i in range(list -1,-1,-1):\n",
        "  x.append(nums[i])\n",
        "print(x)"
      ],
      "metadata": {
        "colab": {
          "base_uri": "https://localhost:8080/"
        },
        "id": "Z5FXLPa8N29z",
        "outputId": "1c3a1a59-ab7f-4fcb-dae4-3804f03b3618"
      },
      "execution_count": null,
      "outputs": [
        {
          "output_type": "stream",
          "name": "stdout",
          "text": [
            "[5, 4, 3, 2, 1]\n"
          ]
        }
      ]
    },
    {
      "cell_type": "code",
      "source": [
        "m#sum of two problm based on target\n",
        "mylist=[1,2,3,4,3,5,6]\n",
        "target=6\n",
        "for i in range(0,len(mylist)):\n",
        "  for j in range(i+1,len(mylist)):\n",
        "    if(mylist[i]+mylist[j]==6):\n",
        "     print(\"two value\",mylist[i],mylist[j])"
      ],
      "metadata": {
        "colab": {
          "base_uri": "https://localhost:8080/"
        },
        "id": "UGCi8YN8OlQ5",
        "outputId": "5bfacb8f-4dfa-4367-a124-702595534c97"
      },
      "execution_count": null,
      "outputs": [
        {
          "output_type": "stream",
          "name": "stdout",
          "text": [
            "two value 1 5\n",
            "two value 2 4\n",
            "two value 3 3\n"
          ]
        }
      ]
    },
    {
      "cell_type": "code",
      "source": [
        " n = len(numbers)\n",
        "for i in range(n):\n",
        "    for j in range(0, n - i - 1):\n",
        "      if numbers[j] > numbers[j + 1]:  # Compare adjacent elements\n",
        "        numbers[j], numbers[j + 1] = numbers[j + 1], numbers[j]  # Swap if out of order\n",
        "print(numbers)\n"
      ],
      "metadata": {
        "colab": {
          "base_uri": "https://localhost:8080/",
          "height": 228
        },
        "id": "DPtN8O0-RU_t",
        "outputId": "6ec397b0-d5ce-4ba2-bf2d-d69718eaa341"
      },
      "execution_count": null,
      "outputs": [
        {
          "output_type": "error",
          "ename": "NameError",
          "evalue": "name 'numbers' is not defined",
          "traceback": [
            "\u001b[0;31m---------------------------------------------------------------------------\u001b[0m",
            "\u001b[0;31mNameError\u001b[0m                                 Traceback (most recent call last)",
            "\u001b[0;32m<ipython-input-46-9e86f0e9ebda>\u001b[0m in \u001b[0;36m<cell line: 0>\u001b[0;34m()\u001b[0m\n\u001b[0;32m----> 1\u001b[0;31m \u001b[0mn\u001b[0m \u001b[0;34m=\u001b[0m \u001b[0mlen\u001b[0m\u001b[0;34m(\u001b[0m\u001b[0mnumbers\u001b[0m\u001b[0;34m)\u001b[0m\u001b[0;34m\u001b[0m\u001b[0;34m\u001b[0m\u001b[0m\n\u001b[0m\u001b[1;32m      2\u001b[0m \u001b[0;32mfor\u001b[0m \u001b[0mi\u001b[0m \u001b[0;32min\u001b[0m \u001b[0mrange\u001b[0m\u001b[0;34m(\u001b[0m\u001b[0mn\u001b[0m\u001b[0;34m)\u001b[0m\u001b[0;34m:\u001b[0m\u001b[0;34m\u001b[0m\u001b[0;34m\u001b[0m\u001b[0m\n\u001b[1;32m      3\u001b[0m    \u001b[0;32mfor\u001b[0m \u001b[0mj\u001b[0m \u001b[0;32min\u001b[0m \u001b[0mrange\u001b[0m\u001b[0;34m(\u001b[0m\u001b[0;36m0\u001b[0m\u001b[0;34m,\u001b[0m \u001b[0mn\u001b[0m \u001b[0;34m-\u001b[0m \u001b[0mi\u001b[0m \u001b[0;34m-\u001b[0m \u001b[0;36m1\u001b[0m\u001b[0;34m)\u001b[0m\u001b[0;34m:\u001b[0m\u001b[0;34m\u001b[0m\u001b[0;34m\u001b[0m\u001b[0m\n\u001b[1;32m      4\u001b[0m      \u001b[0;32mif\u001b[0m \u001b[0mnumbers\u001b[0m\u001b[0;34m[\u001b[0m\u001b[0mj\u001b[0m\u001b[0;34m]\u001b[0m \u001b[0;34m>\u001b[0m \u001b[0mnumbers\u001b[0m\u001b[0;34m[\u001b[0m\u001b[0mj\u001b[0m \u001b[0;34m+\u001b[0m \u001b[0;36m1\u001b[0m\u001b[0;34m]\u001b[0m\u001b[0;34m:\u001b[0m  \u001b[0;31m# Compare adjacent elements\u001b[0m\u001b[0;34m\u001b[0m\u001b[0;34m\u001b[0m\u001b[0m\n\u001b[1;32m      5\u001b[0m        \u001b[0mnumbers\u001b[0m\u001b[0;34m[\u001b[0m\u001b[0mj\u001b[0m\u001b[0;34m]\u001b[0m\u001b[0;34m,\u001b[0m \u001b[0mnumbers\u001b[0m\u001b[0;34m[\u001b[0m\u001b[0mj\u001b[0m \u001b[0;34m+\u001b[0m \u001b[0;36m1\u001b[0m\u001b[0;34m]\u001b[0m \u001b[0;34m=\u001b[0m \u001b[0mnumbers\u001b[0m\u001b[0;34m[\u001b[0m\u001b[0mj\u001b[0m \u001b[0;34m+\u001b[0m \u001b[0;36m1\u001b[0m\u001b[0;34m]\u001b[0m\u001b[0;34m,\u001b[0m \u001b[0mnumbers\u001b[0m\u001b[0;34m[\u001b[0m\u001b[0mj\u001b[0m\u001b[0;34m]\u001b[0m  \u001b[0;31m# Swap if out of order\u001b[0m\u001b[0;34m\u001b[0m\u001b[0;34m\u001b[0m\u001b[0m\n",
            "\u001b[0;31mNameError\u001b[0m: name 'numbers' is not defined"
          ]
        }
      ]
    },
    {
      "cell_type": "code",
      "source": [
        "numbers = [64, 34, 25, 12, 22, 11, 90]\n",
        "sorted_numbers = sort_list(numbers)\n",
        "print(\"Sorted list:\", sorted_numbers)"
      ],
      "metadata": {
        "colab": {
          "base_uri": "https://localhost:8080/",
          "height": 176
        },
        "id": "dw4jj80rRn_k",
        "outputId": "3b4ec6f8-2001-4e13-8e40-c16e28511757"
      },
      "execution_count": null,
      "outputs": [
        {
          "output_type": "error",
          "ename": "NameError",
          "evalue": "name 'sort_list' is not defined",
          "traceback": [
            "\u001b[0;31m---------------------------------------------------------------------------\u001b[0m",
            "\u001b[0;31mNameError\u001b[0m                                 Traceback (most recent call last)",
            "\u001b[0;32m<ipython-input-47-1cfaa2c37787>\u001b[0m in \u001b[0;36m<cell line: 0>\u001b[0;34m()\u001b[0m\n\u001b[1;32m      1\u001b[0m \u001b[0mnumbers\u001b[0m \u001b[0;34m=\u001b[0m \u001b[0;34m[\u001b[0m\u001b[0;36m64\u001b[0m\u001b[0;34m,\u001b[0m \u001b[0;36m34\u001b[0m\u001b[0;34m,\u001b[0m \u001b[0;36m25\u001b[0m\u001b[0;34m,\u001b[0m \u001b[0;36m12\u001b[0m\u001b[0;34m,\u001b[0m \u001b[0;36m22\u001b[0m\u001b[0;34m,\u001b[0m \u001b[0;36m11\u001b[0m\u001b[0;34m,\u001b[0m \u001b[0;36m90\u001b[0m\u001b[0;34m]\u001b[0m\u001b[0;34m\u001b[0m\u001b[0;34m\u001b[0m\u001b[0m\n\u001b[0;32m----> 2\u001b[0;31m \u001b[0msorted_numbers\u001b[0m \u001b[0;34m=\u001b[0m \u001b[0msort_list\u001b[0m\u001b[0;34m(\u001b[0m\u001b[0mnumbers\u001b[0m\u001b[0;34m)\u001b[0m\u001b[0;34m\u001b[0m\u001b[0;34m\u001b[0m\u001b[0m\n\u001b[0m\u001b[1;32m      3\u001b[0m \u001b[0mprint\u001b[0m\u001b[0;34m(\u001b[0m\u001b[0;34m\"Sorted list:\"\u001b[0m\u001b[0;34m,\u001b[0m \u001b[0msorted_numbers\u001b[0m\u001b[0;34m)\u001b[0m\u001b[0;34m\u001b[0m\u001b[0;34m\u001b[0m\u001b[0m\n",
            "\u001b[0;31mNameError\u001b[0m: name 'sort_list' is not defined"
          ]
        }
      ]
    },
    {
      "cell_type": "code",
      "source": [
        "x=[1,2,2,3,4,4,5]\n",
        "for i in range (0,len(x)):\n",
        "  for j in range(i+1,len(x)):\n",
        "    if(x[i]==x[j]):\n",
        "\n",
        "     print(\"duplicates =\",x[i])"
      ],
      "metadata": {
        "colab": {
          "base_uri": "https://localhost:8080/"
        },
        "id": "AoqYuIc7SPgU",
        "outputId": "07f3930a-d397-475a-85d0-ec9b7ff8f419"
      },
      "execution_count": null,
      "outputs": [
        {
          "output_type": "stream",
          "name": "stdout",
          "text": [
            "duplicates = 2\n",
            "duplicates = 4\n"
          ]
        }
      ]
    },
    {
      "cell_type": "code",
      "source": [
        "x=[1,2,2,3,4,4,5]\n",
        "for i in range (0,len(x)):\n",
        "  for j in range(i+1,len(x)):\n",
        "    if(x[i]==x[j]):\n",
        "     x.pop(j)\n",
        "     break\n",
        "\n",
        "  print(\"duplicates\",i,x)\n"
      ],
      "metadata": {
        "colab": {
          "base_uri": "https://localhost:8080/"
        },
        "id": "NnIwtJZLSzAu",
        "outputId": "18e84514-6333-41f7-90f1-f9ca28975c63"
      },
      "execution_count": null,
      "outputs": [
        {
          "output_type": "stream",
          "name": "stdout",
          "text": [
            "duplicates 0 [1, 2, 2, 3, 4, 4, 5]\n",
            "duplicates 1 [1, 2, 3, 4, 4, 5]\n",
            "duplicates 2 [1, 2, 3, 4, 4, 5]\n",
            "duplicates 3 [1, 2, 3, 4, 5]\n",
            "duplicates 4 [1, 2, 3, 4, 5]\n",
            "duplicates 5 [1, 2, 3, 4, 5]\n",
            "duplicates 6 [1, 2, 3, 4, 5]\n"
          ]
        }
      ]
    },
    {
      "cell_type": "code",
      "source": [
        "num = [5, 2, 9, 1, 5, 6]\n",
        "n=len(num)\n",
        "for i in range(n):\n",
        "  swapped =False\n",
        "  for j in range(0,n-i-1):\n",
        "    if num[j]>num[j+1]:\n",
        "      num[j],num[j+1]=num[j+1],num[j]\n",
        "      swapped=True\n",
        "  if not swapped:\n",
        "\n",
        "    break\n",
        "print(num)"
      ],
      "metadata": {
        "colab": {
          "base_uri": "https://localhost:8080/"
        },
        "id": "D_Ii8VI6IGvS",
        "outputId": "5353cd4e-36bf-445f-eb2a-fec9bbf5031a"
      },
      "execution_count": null,
      "outputs": [
        {
          "output_type": "stream",
          "name": "stdout",
          "text": [
            "[1, 2, 5, 5, 6, 9]\n"
          ]
        }
      ]
    },
    {
      "cell_type": "code",
      "source": [
        "#12\n",
        "x = [\"apple\", \"banana\", \"strawberry\", \"kiwi\"]\n",
        "max=x[0]\n",
        "for i in range(0,len(x)):\n",
        "  if(x[i]>max):\n",
        "    max=x[i]\n",
        "print(\"max=\",max)"
      ],
      "metadata": {
        "colab": {
          "base_uri": "https://localhost:8080/"
        },
        "id": "LILC8bIjKwA0",
        "outputId": "d0a92a19-8e14-468b-ba13-5a62a085f12c"
      },
      "execution_count": null,
      "outputs": [
        {
          "output_type": "stream",
          "name": "stdout",
          "text": [
            "max= strawberry\n"
          ]
        }
      ]
    },
    {
      "cell_type": "code",
      "source": [
        "#11\n",
        "list1 = [1, 2, 3, 4, 5]\n",
        "list2 = [3, 4, 5, 6, 7]\n",
        "common=[]\n",
        "for i in range(0,len(list1)):\n",
        "  if list1[i] in list2:\n",
        "    common.append(list1[i])\n",
        "print(common )\n",
        "\n"
      ],
      "metadata": {
        "colab": {
          "base_uri": "https://localhost:8080/"
        },
        "id": "t-466URkMiRq",
        "outputId": "5bf80e91-720d-4ab3-e8a6-54e9d7c8c7e0"
      },
      "execution_count": null,
      "outputs": [
        {
          "output_type": "stream",
          "name": "stdout",
          "text": [
            "[3, 4, 5]\n"
          ]
        }
      ]
    },
    {
      "cell_type": "code",
      "source": [
        "x=[1,2,3,2,4,5,1,6]\n",
        "for i in range (0,len(x)):\n",
        "  for j in range(i+1,len(x)):\n",
        "    if(x[i]==x[j]):\n",
        "     x.pop(j)\n",
        "     break\n",
        "\n",
        "  print(\"duplicates\",i,x)"
      ],
      "metadata": {
        "colab": {
          "base_uri": "https://localhost:8080/"
        },
        "id": "YEjF7Yr4OyHB",
        "outputId": "866bc944-f761-4546-fb51-51276feef2fa"
      },
      "execution_count": null,
      "outputs": [
        {
          "output_type": "stream",
          "name": "stdout",
          "text": [
            "duplicates 0 [1, 2, 3, 2, 4, 5, 6]\n",
            "duplicates 1 [1, 2, 3, 4, 5, 6]\n",
            "duplicates 2 [1, 2, 3, 4, 5, 6]\n",
            "duplicates 3 [1, 2, 3, 4, 5, 6]\n",
            "duplicates 4 [1, 2, 3, 4, 5, 6]\n",
            "duplicates 5 [1, 2, 3, 4, 5, 6]\n",
            "duplicates 6 [1, 2, 3, 4, 5, 6]\n",
            "duplicates 7 [1, 2, 3, 4, 5, 6]\n"
          ]
        }
      ]
    },
    {
      "cell_type": "code",
      "source": [
        "mylist=[1,2,3,4,5]\n",
        "total=0\n",
        "sum=0\n",
        "smallest=mylist[0]\n",
        "largest=mylist[1]\n",
        "for i in range(0,len(mylist)):\n",
        "  sum+=mylist[i]\n",
        "  if (mylist[i]>largest):\n",
        "    largest=mylist[i]\n",
        "  if (mylist[i]<smallest):\n",
        "    smallest=mylist[i]\n",
        "\n",
        "total=sum-largest-smallest\n",
        "\n",
        "print(\"total=\",total)\n"
      ],
      "metadata": {
        "colab": {
          "base_uri": "https://localhost:8080/"
        },
        "id": "2MHNwHl68cOT",
        "outputId": "6909018c-dcc5-43ef-e054-da1dafe75518"
      },
      "execution_count": null,
      "outputs": [
        {
          "output_type": "stream",
          "name": "stdout",
          "text": [
            "total= 9\n"
          ]
        }
      ]
    },
    {
      "cell_type": "code",
      "source": [
        "num=[1,2,3,2,1]\n",
        "for i in range(0,len(num)):\n",
        "  if(num[i]==num[-(i+1)]):\n",
        "   continue\n",
        "  else:\n",
        "    print(\"false\")\n",
        "    break\n",
        "else:\n",
        "  print(\"true\")\n"
      ],
      "metadata": {
        "colab": {
          "base_uri": "https://localhost:8080/"
        },
        "id": "hFWogbKf5Zu7",
        "outputId": "fc273b87-587e-4660-de31-917f97c55af7"
      },
      "execution_count": null,
      "outputs": [
        {
          "output_type": "stream",
          "name": "stdout",
          "text": [
            "true\n"
          ]
        }
      ]
    },
    {
      "cell_type": "code",
      "source": [
        "n=[1,2,3,4,6]\n",
        "for i in range(1,len(n)+1):\n",
        "  if i not in n:\n",
        "    print(i)\n",
        "    break\n"
      ],
      "metadata": {
        "colab": {
          "base_uri": "https://localhost:8080/"
        },
        "id": "CXSmh-As6Yic",
        "outputId": "e4d6b65e-57e6-4e20-f346-f645131a819f"
      },
      "execution_count": null,
      "outputs": [
        {
          "output_type": "stream",
          "name": "stdout",
          "text": [
            "5\n"
          ]
        }
      ]
    },
    {
      "cell_type": "code",
      "source": [
        "n=[4,5,1,2,0,4,5,2]\n",
        "for i in range(0,len(n)):\n",
        "  count=0\n",
        "  for j in range(0,len(n)):\n",
        "    if n[i]==n[j]:\n",
        "      count+=1\n",
        "  if count==1:\n",
        "    print(n[i])\n",
        "    break"
      ],
      "metadata": {
        "colab": {
          "base_uri": "https://localhost:8080/"
        },
        "id": "dDLzFHPg7hNT",
        "outputId": "a67e68c2-993a-4c8c-c2b2-cf6f4e60b147"
      },
      "execution_count": null,
      "outputs": [
        {
          "output_type": "stream",
          "name": "stdout",
          "text": [
            "1\n"
          ]
        }
      ]
    },
    {
      "cell_type": "code",
      "source": [
        "n=[0,1,0,3,12]\n",
        "result=[]\n",
        "for i in range(0,len(n)):\n",
        "  if n[i]!=0:\n",
        "    result.append(n[i])\n",
        "for i in range (len(n)):\n",
        "  if n[i]==0:\n",
        "    result.append(n[i])\n",
        "print(result)"
      ],
      "metadata": {
        "colab": {
          "base_uri": "https://localhost:8080/"
        },
        "id": "qJVA_ZPZ8AIe",
        "outputId": "69586c1a-abdc-4ba2-84cf-0501afd846d8"
      },
      "execution_count": null,
      "outputs": [
        {
          "output_type": "stream",
          "name": "stdout",
          "text": [
            "[1, 3, 12, 0, 0]\n"
          ]
        }
      ]
    },
    {
      "cell_type": "code",
      "source": [
        "n=[1,3,2,6,5,8,7]\n",
        "for i in range(len(n)-1):\n",
        "  if n[i]<n[i+1]:\n",
        "    print(n[i+1])"
      ],
      "metadata": {
        "colab": {
          "base_uri": "https://localhost:8080/"
        },
        "id": "gqHBzkyY9q-t",
        "outputId": "2722013d-d7d3-45e4-9c4d-fc051f5532f1"
      },
      "execution_count": null,
      "outputs": [
        {
          "output_type": "stream",
          "name": "stdout",
          "text": [
            "3\n",
            "6\n",
            "8\n"
          ]
        }
      ]
    },
    {
      "cell_type": "code",
      "source": [
        "str1=\"regexian\"\n",
        "str2=\"tushar\"\n",
        "\n",
        "for char in range(0,len(str1)):\n",
        "  count=0\n",
        "\n",
        "  if str1[char] in str2:\n",
        "    if str1[char]== str2[char]:\n",
        "      count+=1\n",
        "      print(count)"
      ],
      "metadata": {
        "colab": {
          "base_uri": "https://localhost:8080/",
          "height": 211
        },
        "id": "Hchfd-MBpuKt",
        "outputId": "8a39fc37-d5fd-4f9a-f7c4-6fe95aac133f"
      },
      "execution_count": null,
      "outputs": [
        {
          "output_type": "error",
          "ename": "IndexError",
          "evalue": "string index out of range",
          "traceback": [
            "\u001b[0;31m---------------------------------------------------------------------------\u001b[0m",
            "\u001b[0;31mIndexError\u001b[0m                                Traceback (most recent call last)",
            "\u001b[0;32m<ipython-input-2-350a8c78c3f7>\u001b[0m in \u001b[0;36m<cell line: 0>\u001b[0;34m()\u001b[0m\n\u001b[1;32m      6\u001b[0m \u001b[0;34m\u001b[0m\u001b[0m\n\u001b[1;32m      7\u001b[0m   \u001b[0;32mif\u001b[0m \u001b[0mstr1\u001b[0m\u001b[0;34m[\u001b[0m\u001b[0mchar\u001b[0m\u001b[0;34m]\u001b[0m \u001b[0;32min\u001b[0m \u001b[0mstr2\u001b[0m\u001b[0;34m:\u001b[0m\u001b[0;34m\u001b[0m\u001b[0;34m\u001b[0m\u001b[0m\n\u001b[0;32m----> 8\u001b[0;31m     \u001b[0;32mif\u001b[0m \u001b[0mstr1\u001b[0m\u001b[0;34m[\u001b[0m\u001b[0mchar\u001b[0m\u001b[0;34m]\u001b[0m\u001b[0;34m==\u001b[0m \u001b[0mstr2\u001b[0m\u001b[0;34m[\u001b[0m\u001b[0mchar\u001b[0m\u001b[0;34m]\u001b[0m\u001b[0;34m:\u001b[0m\u001b[0;34m\u001b[0m\u001b[0;34m\u001b[0m\u001b[0m\n\u001b[0m\u001b[1;32m      9\u001b[0m       \u001b[0mcount\u001b[0m\u001b[0;34m+=\u001b[0m\u001b[0;36m1\u001b[0m\u001b[0;34m\u001b[0m\u001b[0;34m\u001b[0m\u001b[0m\n\u001b[1;32m     10\u001b[0m       \u001b[0mprint\u001b[0m\u001b[0;34m(\u001b[0m\u001b[0mcount\u001b[0m\u001b[0;34m)\u001b[0m\u001b[0;34m\u001b[0m\u001b[0;34m\u001b[0m\u001b[0m\n",
            "\u001b[0;31mIndexError\u001b[0m: string index out of range"
          ]
        }
      ]
    },
    {
      "cell_type": "code",
      "source": [
        "s=\"abcde\"\n",
        "for index in range(0,2):\n",
        "  data=\"\"\n",
        "  for j in range(index,len(s)):\n",
        "    data=data+s[j]\n",
        "    print(s[index],s[j],data)"
      ],
      "metadata": {
        "colab": {
          "base_uri": "https://localhost:8080/"
        },
        "id": "r2-Y-MTb2Qom",
        "outputId": "d7a8f3c3-3696-414d-9d5c-f964c3bf83a1"
      },
      "execution_count": null,
      "outputs": [
        {
          "output_type": "stream",
          "name": "stdout",
          "text": [
            "a a a\n",
            "a b ab\n",
            "a c abc\n",
            "a d abcd\n",
            "a e abcde\n",
            "b b b\n",
            "b c bc\n",
            "b d bcd\n",
            "b e bcde\n"
          ]
        }
      ]
    },
    {
      "cell_type": "code",
      "source": [
        "def square(num):\n",
        "  return num**2\n",
        "  print(10)"
      ],
      "metadata": {
        "id": "1RLH-huQ8kBp"
      },
      "execution_count": null,
      "outputs": []
    },
    {
      "cell_type": "code",
      "source": [
        "square(10)"
      ],
      "metadata": {
        "colab": {
          "base_uri": "https://localhost:8080/"
        },
        "id": "y8eknAnh8usA",
        "outputId": "2c0f1c9a-3ccd-4f26-ed76-73ff8216aab2"
      },
      "execution_count": null,
      "outputs": [
        {
          "output_type": "execute_result",
          "data": {
            "text/plain": [
              "100"
            ]
          },
          "metadata": {},
          "execution_count": 2
        }
      ]
    },
    {
      "cell_type": "code",
      "source": [
        "def square(num):\n",
        "  return num**2\n",
        "x=map(square,[10,20,30])\n",
        "print(list(x))"
      ],
      "metadata": {
        "colab": {
          "base_uri": "https://localhost:8080/"
        },
        "id": "uj_hWf8b8yVO",
        "outputId": "1df83e70-4765-4efa-b5db-ea93ff89549d"
      },
      "execution_count": null,
      "outputs": [
        {
          "output_type": "stream",
          "name": "stdout",
          "text": [
            "[100, 400, 900]\n"
          ]
        }
      ]
    },
    {
      "cell_type": "code",
      "source": [
        "x=map(lambda num:num**2,[10,20,30])\n",
        "print(list(x))"
      ],
      "metadata": {
        "colab": {
          "base_uri": "https://localhost:8080/"
        },
        "id": "rPq3ten6-haN",
        "outputId": "62befa88-84e8-44da-d1d1-4c9ca1fcb1a2"
      },
      "execution_count": null,
      "outputs": [
        {
          "output_type": "stream",
          "name": "stdout",
          "text": [
            "[100, 400, 900]\n"
          ]
        }
      ]
    }
  ]
}